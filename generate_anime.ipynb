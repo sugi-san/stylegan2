{
  "cells": [
    {
      "cell_type": "markdown",
      "metadata": {
        "id": "view-in-github",
        "colab_type": "text"
      },
      "source": [
        "<a href=\"https://colab.research.google.com/github/sugi-san/stylegan2/blob/master/generate_anime.ipynb\" target=\"_parent\"><img src=\"https://colab.research.google.com/assets/colab-badge.svg\" alt=\"Open In Colab\"/></a>"
      ]
    },
    {
      "cell_type": "markdown",
      "metadata": {
        "id": "n2lHZhcg7WqA"
      },
      "source": [
        "# セットアップ"
      ]
    },
    {
      "cell_type": "code",
      "execution_count": null,
      "metadata": {
        "id": "Ixs37iA-Mxf2",
        "cellView": "form"
      },
      "outputs": [],
      "source": [
        "#@title 1.セットアップ（２分くらい掛かります）\n",
        "from IPython.utils import io\n",
        "import os\n",
        "import subprocess\n",
        "import tqdm.notebook\n",
        "\n",
        "TQDM_BAR_FORMAT = '{l_bar}{bar}| {n_fmt}/{total_fmt} [elapsed: {elapsed} remaining: {remaining}]'\n",
        "\n",
        "try:\n",
        "  with tqdm.notebook.tqdm(total=100, bar_format=TQDM_BAR_FORMAT) as pbar:\n",
        "    with io.capture_output() as captured:\n",
        "\n",
        "      # github からコードをコピー\n",
        "      !git clone https://github.com/sugi-san/stylegan2.git\n",
        "      pbar.update(10)\n",
        "\n",
        "      # 学習済みの重みのダウンロード\n",
        "      import gdown\n",
        "      gdown.download('https://drive.google.com/u/1/uc?id=1_NUX9_xRGjce1KbCxT4frUsFWctlN4ZC', 'network-tadne.pkl', quiet=False)\n",
        "      pbar.update(20)\n",
        "\n",
        "      # TensorFlow_plugin セッティングと関数定義\n",
        "      %tensorflow_version 1.x\n",
        "      %cd /content/stylegan2\n",
        "      from function import *\n",
        "      pbar.update(70)\n",
        "\n",
        "except subprocess.CalledProcessError:\n",
        "  print(captured)\n",
        "  raise\n",
        "\n",
        "# サンプルseed\n",
        "pt_list = [1058, 1077, 1106, 1111, 1123, 1140, 1174, 1176, 1182, 1187, 1190, 1201, 1305, 1416, 1417, 1426, 1607, 1613, 1652, 1679, 1685, 1777, 1779, 1863, 1895, 2550, 2967, 3158, 3160, 3210, 3211, 3304, 3313, 3330, 3349, 3365, 3489, 3564, 3617, 3618, 3649, 3772, 3865, 3870, 3923, 3988, 4086, 4087, 4094, 4096, 4143, 4170, 4234, 4263, 4264, 4283, 4288, 4316, 4327, 4337, 4345, 4470, 4473, 4484, 4494, 4640, 4674, 4707, 4756, 4786, 4798, 4804, 4868, 4956, 5013, 5031, 5036, 5137, 5167, 5181, 5183, 5231, 5342, 5526, 5631, 5648, 5658, 5666, 5708, 5725, 5782, 5805, 5807, 5877, 5958, 5997, 6017, 6024, 6043, 6103, 6281, 6375, 6478, 6498, 6651, 6718, 7000, 7013, 7017, 7018, 7079, 7086, 7094, 7095, 7168, 7208, 7262, 7281, 7285, 7302, 7314, 7332, 7342, 7399, 7413, 7419, 7424, 7453, 7536, 7537, 7552, 7561, 7587, 7591, 7701, 7705, 7708, 7768, 7816, 7854, 7857, 7858, 7882, 7914, 7917, 7918, 7929, 8003, 8005, 8020, 8086, 8090, 8102, 8114, 8129, 8133, 8137, 8140, 8144, 8152, 8159, 8170, 8172, 8377, 8401, 8407, 8434, 8450, 8460, 8462, 8470, 8482, 8502, 8616, 8617, 8728, 8908, 8916, 8940, 8944, 8947, 8965]"
      ]
    },
    {
      "cell_type": "code",
      "execution_count": null,
      "metadata": {
        "cellView": "form",
        "id": "IJgFanO9iIR1"
      },
      "outputs": [],
      "source": [
        "#@title 2.画像生成\n",
        "start = 4600 #@param {type:\"slider\", min:1000, max:9950, step:50}  \n",
        "number = 10 #@param {type:\"slider\", min:5, max:50, step:1} \n",
        "seeds = list(range(start, start+number))\n",
        "\n",
        "reset_folder('gen_img')\n",
        "truncation_psi = 0.8 \n",
        "generate_images(seeds, truncation_psi)\n",
        "display_pic('gen_img')"
      ]
    },
    {
      "cell_type": "code",
      "execution_count": null,
      "metadata": {
        "cellView": "form",
        "id": "W3l5K4JROS0g"
      },
      "outputs": [],
      "source": [
        "#@title 3.ブレンド（50:50） \n",
        "src_seed =  4606  #@param {type:\"integer\"}\n",
        "dst_seed =  4605  #@param {type:\"integer\"}\n",
        "blending = 0.5 \n",
        "truncation_psi = 0.8 \n",
        "\n",
        "reset_folder('gen_img')\n",
        "generate_images([src_seed, dst_seed], truncation_psi)\n",
        "\n",
        "#print(\"Blended image (\", blending, \")\")\n",
        "blend_images(src_seed, dst_seed, blending=blending, truncation_psi=truncation_psi)\n",
        "display_pic('gen_img')"
      ]
    },
    {
      "cell_type": "code",
      "execution_count": null,
      "metadata": {
        "id": "u1TQISpYKR1P",
        "cellView": "form"
      },
      "outputs": [],
      "source": [
        "#@title 4.モーフィング \n",
        "src_seed =  4605 #@param {type:\"integer\"}\n",
        "dst_seed =  4606 #@param {type:\"integer\"}\n",
        "truncation_psi = 0.8 \n",
        "duration_sec = 5.0 \n",
        "mp4_fps = 20\n",
        "\n",
        "#generate_images([src_seed, dst_seed], truncation_psi)\n",
        "output_filename = interpolate_between_seeds(seed_array=[src_seed, dst_seed], truncation=truncation_psi, duration_sec=duration_sec, mp4_fps=mp4_fps)\n",
        "display_mp4(output_filename)"
      ]
    },
    {
      "cell_type": "code",
      "execution_count": null,
      "metadata": {
        "id": "Os3eMD9zW7Wy",
        "cellView": "form"
      },
      "outputs": [],
      "source": [
        "#@title 5.連続モーフィング\n",
        "import random\n",
        "#@markdown ・手動設定の場合はmanualにチェックを入れ、inputに半角数字をカンマ区切りで入力する\n",
        "manual = False #@param {type:\"boolean\"}\n",
        "input = '5000, 6000, 7000, 8000' #@param {type:\"string\"}\n",
        "\n",
        "if manual==True:\n",
        "  seeds = [int(x.strip()) for x in input.split(',')]\n",
        "  duration_sec = len(seeds)*2.5\n",
        "else:\n",
        "  num = 8\n",
        "  idx_list = random.sample(range(182), k=num)\n",
        "  seeds = []\n",
        "  for i in idx_list:\n",
        "      seeds.append(pt_list[i])\n",
        "  duration_sec = num*2.5\n",
        "\n",
        "mp4_fps = 20\n",
        "output_filename = interpolate_between_seeds(seed_array=seeds, truncation=truncation_psi, duration_sec=duration_sec, mp4_fps=mp4_fps, text=False)\n",
        "display_mp4(output_filename)"
      ]
    },
    {
      "cell_type": "code",
      "source": [
        "#@title 6.動画のダウンロード\n",
        "from google.colab import files\n",
        "files.download('interp.mp4')"
      ],
      "metadata": {
        "cellView": "form",
        "id": "WPVrbFbrZ5H6"
      },
      "execution_count": null,
      "outputs": []
    }
  ],
  "metadata": {
    "accelerator": "GPU",
    "colab": {
      "collapsed_sections": [],
      "name": "generate_anime",
      "provenance": [],
      "include_colab_link": true
    },
    "kernelspec": {
      "display_name": "Python 3",
      "language": "python",
      "name": "python3"
    },
    "language_info": {
      "codemirror_mode": {
        "name": "ipython",
        "version": 3
      },
      "file_extension": ".py",
      "mimetype": "text/x-python",
      "name": "python",
      "nbconvert_exporter": "python",
      "pygments_lexer": "ipython3",
      "version": "3.7.9"
    }
  },
  "nbformat": 4,
  "nbformat_minor": 0
}